{
  "cells": [
    {
      "cell_type": "markdown",
      "metadata": {
        "id": "47d5313e-c29d-4581-a9c7-a45122337069"
      },
      "source": [
        "USE THIS COLLAB FOR RUNNING FMNIST AND MNIST DATASET. FOR DVS DATASET WE NEED TO UPLOAD A IBM DATA SET \".tar.gz\" WHICH IS PUBLICALLY AVALIABLE AND FOR USING THIS WE NEED TI INSTALL TONIC. TO AVOID ISSUES WITH _items downgrade your pytorch version to 10.2. "
      ],
      "id": "47d5313e-c29d-4581-a9c7-a45122337069"
    },
    {
      "cell_type": "code",
      "execution_count": null,
      "metadata": {
        "colab": {
          "base_uri": "https://localhost:8080/"
        },
        "id": "vmzdiAd6kEZa",
        "outputId": "b529868f-1534-4c2f-c2b2-8a208af6afe7"
      },
      "outputs": [
        {
          "name": "stdout",
          "output_type": "stream",
          "text": [
            "Mounted at /content/drive\n"
          ]
        }
      ],
      "source": [
        "from google.colab import drive\n",
        "drive.mount('/content/drive')"
      ],
      "id": "vmzdiAd6kEZa"
    },
    {
      "cell_type": "markdown",
      "metadata": {
        "id": "b68d7bb4"
      },
      "source": [
        "## Install All Required Packages and Import Necessary Libraries"
      ],
      "id": "b68d7bb4"
    },
    {
      "cell_type": "code",
      "execution_count": null,
      "metadata": {
        "colab": {
          "base_uri": "https://localhost:8080/"
        },
        "id": "hDnIEHOKB8LD",
        "outputId": "3c5bf99b-eee7-432a-e9f1-69825a7dca21"
      },
      "outputs": [
        {
          "name": "stdout",
          "output_type": "stream",
          "text": [
            "\u001b[2K     \u001b[90m━━━━━━━━━━━━━━━━━━━━━━━━━━━━━━━━━━━━━━━\u001b[0m \u001b[32m104.7/104.7 kB\u001b[0m \u001b[31m7.0 MB/s\u001b[0m eta \u001b[36m0:00:00\u001b[0m\n",
            "\u001b[2K     \u001b[90m━━━━━━━━━━━━━━━━━━━━━━━━━━━━━━━━━━━━━━\u001b[0m \u001b[32m365.7/365.7 kB\u001b[0m \u001b[31m23.3 MB/s\u001b[0m eta \u001b[36m0:00:00\u001b[0m\n",
            "\u001b[2K     \u001b[90m━━━━━━━━━━━━━━━━━━━━━━━━━━━━━━━━━━━━━━\u001b[0m \u001b[32m411.4/411.4 kB\u001b[0m \u001b[31m41.7 MB/s\u001b[0m eta \u001b[36m0:00:00\u001b[0m\n",
            "\u001b[2K     \u001b[90m━━━━━━━━━━━━━━━━━━━━━━━━━━━━━━━━━━━━━━\u001b[0m \u001b[32m212.9/212.9 kB\u001b[0m \u001b[31m26.0 MB/s\u001b[0m eta \u001b[36m0:00:00\u001b[0m\n",
            "\u001b[2K     \u001b[90m━━━━━━━━━━━━━━━━━━━━━━━━━━━━━━━━━━━━━━━━\u001b[0m \u001b[32m78.7/78.7 kB\u001b[0m \u001b[31m10.4 MB/s\u001b[0m eta \u001b[36m0:00:00\u001b[0m\n",
            "\u001b[?25h"
          ]
        }
      ],
      "source": [
        "import urllib.request\n",
        "urllib.request.urlretrieve('https://raw.githubusercontent.com/jeshraghian/QSNNs/main/requirements.txt', 'requirements.txt')\n",
        "!pip install -r requirements.txt --quiet\n",
        "import torch, torch.nn as nn\n",
        "import snntorch as snn\n",
        "import brevitas.nn as qnn"
      ],
      "id": "hDnIEHOKB8LD"
    },
    {
      "cell_type": "markdown",
      "metadata": {
        "id": "EYf13Gtx1OCj"
      },
      "source": [
        "## Create a Dataloader for the FashionMNIST Dataset"
      ],
      "id": "EYf13Gtx1OCj"
    },
    {
      "cell_type": "markdown",
      "metadata": {
        "id": "17e61945"
      },
      "source": [
        "Download and apply transforms to the FashionMNIST dataset."
      ],
      "id": "17e61945"
    },
    {
      "cell_type": "code",
      "execution_count": null,
      "metadata": {
        "colab": {
          "base_uri": "https://localhost:8080/"
        },
        "id": "eo4T5MC21hgD",
        "outputId": "852c272d-94e8-4872-93e4-da2e9c3c1ebc"
      },
      "outputs": [
        {
          "name": "stdout",
          "output_type": "stream",
          "text": [
            "Downloading http://fashion-mnist.s3-website.eu-central-1.amazonaws.com/train-images-idx3-ubyte.gz\n",
            "Downloading http://fashion-mnist.s3-website.eu-central-1.amazonaws.com/train-images-idx3-ubyte.gz to /content/drive/MyDrive/DVS  Gesture dataset/FashionMNIST/raw/train-images-idx3-ubyte.gz\n"
          ]
        },
        {
          "name": "stderr",
          "output_type": "stream",
          "text": [
            "100%|██████████| 26421880/26421880 [00:00<00:00, 115934575.49it/s]\n"
          ]
        },
        {
          "name": "stdout",
          "output_type": "stream",
          "text": [
            "Extracting /content/drive/MyDrive/DVS  Gesture dataset/FashionMNIST/raw/train-images-idx3-ubyte.gz to /content/drive/MyDrive/DVS  Gesture dataset/FashionMNIST/raw\n",
            "\n",
            "Downloading http://fashion-mnist.s3-website.eu-central-1.amazonaws.com/train-labels-idx1-ubyte.gz\n",
            "Downloading http://fashion-mnist.s3-website.eu-central-1.amazonaws.com/train-labels-idx1-ubyte.gz to /content/drive/MyDrive/DVS  Gesture dataset/FashionMNIST/raw/train-labels-idx1-ubyte.gz\n"
          ]
        },
        {
          "name": "stderr",
          "output_type": "stream",
          "text": [
            "100%|██████████| 29515/29515 [00:00<00:00, 6126336.54it/s]"
          ]
        },
        {
          "name": "stdout",
          "output_type": "stream",
          "text": [
            "Extracting /content/drive/MyDrive/DVS  Gesture dataset/FashionMNIST/raw/train-labels-idx1-ubyte.gz to /content/drive/MyDrive/DVS  Gesture dataset/FashionMNIST/raw\n",
            "\n",
            "Downloading http://fashion-mnist.s3-website.eu-central-1.amazonaws.com/t10k-images-idx3-ubyte.gz\n",
            "Downloading http://fashion-mnist.s3-website.eu-central-1.amazonaws.com/t10k-images-idx3-ubyte.gz to /content/drive/MyDrive/DVS  Gesture dataset/FashionMNIST/raw/t10k-images-idx3-ubyte.gz\n"
          ]
        },
        {
          "name": "stderr",
          "output_type": "stream",
          "text": [
            "\n",
            "100%|██████████| 4422102/4422102 [00:00<00:00, 64895454.67it/s]\n"
          ]
        },
        {
          "name": "stdout",
          "output_type": "stream",
          "text": [
            "Extracting /content/drive/MyDrive/DVS  Gesture dataset/FashionMNIST/raw/t10k-images-idx3-ubyte.gz to /content/drive/MyDrive/DVS  Gesture dataset/FashionMNIST/raw\n",
            "\n",
            "Downloading http://fashion-mnist.s3-website.eu-central-1.amazonaws.com/t10k-labels-idx1-ubyte.gz\n",
            "Downloading http://fashion-mnist.s3-website.eu-central-1.amazonaws.com/t10k-labels-idx1-ubyte.gz to /content/drive/MyDrive/DVS  Gesture dataset/FashionMNIST/raw/t10k-labels-idx1-ubyte.gz\n"
          ]
        },
        {
          "name": "stderr",
          "output_type": "stream",
          "text": [
            "100%|██████████| 5148/5148 [00:00<00:00, 26789425.55it/s]\n"
          ]
        },
        {
          "name": "stdout",
          "output_type": "stream",
          "text": [
            "Extracting /content/drive/MyDrive/DVS  Gesture dataset/FashionMNIST/raw/t10k-labels-idx1-ubyte.gz to /content/drive/MyDrive/DVS  Gesture dataset/FashionMNIST/raw\n",
            "\n"
          ]
        }
      ],
      "source": [
        "from torch.utils.data import DataLoader\n",
        "from torchvision import datasets, transforms\n",
        "\n",
        "\n",
        "data_path='/content/drive/MyDrive/DVS  Gesture dataset' # Directory where FMNIST dataset is stored\n",
        "device = torch.device(\"cuda\") if torch.cuda.is_available() else torch.device(\"cpu\") # Use GPU if available\n",
        "\n",
        "# Define a transform to normalize data\n",
        "transform = transforms.Compose([\n",
        "            transforms.Resize((28, 28)),\n",
        "            transforms.Grayscale(),\n",
        "            transforms.ToTensor(),\n",
        "            transforms.Normalize((0,), (1,))])\n",
        "\n",
        "# Download and load the training and test FashionMNIST datasets\n",
        "fmnist_train = datasets.FashionMNIST(data_path, train=True, download=True, transform=transform)\n",
        "fmnist_test = datasets.FashionMNIST(data_path, train=False, download=True, transform=transform)"
      ],
      "id": "eo4T5MC21hgD"
    },
    {
      "cell_type": "markdown",
      "metadata": {
        "id": "CHcNZT-7iCQH"
      },
      "source": [
        "To speed-up simulations for demonstration purposes, the below code cell can be run to reduce the number of samples in the training and test sets by a factor of 10."
      ],
      "id": "CHcNZT-7iCQH"
    },
    {
      "cell_type": "code",
      "execution_count": null,
      "metadata": {
        "colab": {
          "base_uri": "https://localhost:8080/"
        },
        "id": "q5bhKdF_h7qk",
        "outputId": "21ac3872-ab39-4d13-c7ae-88b5925345fa"
      },
      "outputs": [
        {
          "data": {
            "text/plain": [
              "Dataset FashionMNIST\n",
              "    Number of datapoints: 1000\n",
              "    Root location: /content/drive/MyDrive/DVS  Gesture dataset\n",
              "    Split: Test\n",
              "    StandardTransform\n",
              "Transform: Compose(\n",
              "               Resize(size=(28, 28), interpolation=bilinear, max_size=None, antialias=warn)\n",
              "               Grayscale(num_output_channels=1)\n",
              "               ToTensor()\n",
              "               Normalize(mean=(0,), std=(1,))\n",
              "           )"
            ]
          },
          "execution_count": 4,
          "metadata": {},
          "output_type": "execute_result"
        }
      ],
      "source": [
        "from snntorch import utils\n",
        "\n",
        "\n",
        "utils.data_subset(fmnist_train, 10)\n",
        "utils.data_subset(fmnist_test, 10)"
      ],
      "id": "q5bhKdF_h7qk"
    },
    {
      "cell_type": "markdown",
      "metadata": {
        "id": "bLmrQ5pEiSSJ"
      },
      "source": [
        "Create DataLoaders with batches of 128 samples and shuffle the training set."
      ],
      "id": "bLmrQ5pEiSSJ"
    },
    {
      "cell_type": "code",
      "execution_count": null,
      "metadata": {
        "id": "xstp4mn_iRxi"
      },
      "outputs": [],
      "source": [
        "batch_size = 128 # Batches of 128 samples\n",
        "trainloader = DataLoader(fmnist_train, batch_size=batch_size, shuffle=True)\n",
        "testloader = DataLoader(fmnist_test, batch_size=batch_size, shuffle=False)"
      ],
      "id": "xstp4mn_iRxi"
    },
    {
      "cell_type": "markdown",
      "metadata": {
        "id": "i3A4exp_c0c5"
      },
      "source": [
        "## Define Network Parameters"
      ],
      "id": "i3A4exp_c0c5"
    },
    {
      "cell_type": "markdown",
      "metadata": {
        "id": "vrt2wObbiXSf"
      },
      "source": [
        "We have only specified 15 epochs without early stopping as a quick, early demonstration. Feel free to increase this. "
      ],
      "id": "vrt2wObbiXSf"
    },
    {
      "cell_type": "code",
      "execution_count": null,
      "metadata": {
        "id": "ivhGn7Lhc6te"
      },
      "outputs": [],
      "source": [
        "config = {\n",
        "    \"num_epochs\": 15,  # Number of epochs to train for (per trial)\n",
        "    \"batch_size\": 128,  # Batch size\n",
        "    \"seed\": 0,  # Random seed\n",
        "    \n",
        "    # Quantization\n",
        "    \"num_bits\": 4,  # Bit resolution\n",
        "    \n",
        "    # Network parameters\n",
        "    \"grad_clip\": False,  # Whether or not to clip gradients\n",
        "    \"weight_clip\": False,  # Whether or not to clip weights\n",
        "    \"batch_norm\": True,  # Whether or not to use batch normalization\n",
        "    \"dropout\": 0.07,  # Dropout rate\n",
        "    \"beta\": 0.97,  # Decay rate parameter (beta)\n",
        "    \"threshold\": 2.5,  # Threshold parameter (theta)\n",
        "    \"lr\": 3.0e-3,  # Initial learning rate\n",
        "    \"slope\": 5.6,  # Slope value (k)\n",
        "    \n",
        "    # Fixed params\n",
        "    \"num_steps\": 100,  # Number of timesteps to encode input for\n",
        "    \"correct_rate\": 0.8,  # Correct rate\n",
        "    \"incorrect_rate\": 0.2,  # Incorrect rate\n",
        "    \"betas\": (0.9, 0.999),  # Adam optimizer beta values\n",
        "    \"t_0\": 4690,  # Initial frequency of the cosine annealing scheduler\n",
        "    \"eta_min\": 0,  # Minimum learning rate\n",
        "}"
      ],
      "id": "ivhGn7Lhc6te"
    },
    {
      "cell_type": "markdown",
      "metadata": {
        "id": "BtJBOtez11wy"
      },
      "source": [
        "## Define the Network Architecture\n",
        "* 5 $\\times$ Conv Layer w/16 Filters\n",
        "* 2 $\\times$ 2 Average Pooling\n",
        "* 5 $\\times$ Conv Layer w/64 Filters\n",
        "* 2 $\\times$ 2 Average Pooling\n",
        "* (64 $\\times$ 4 $\\times$ 4) -- 10 Dense Layer"
      ],
      "id": "BtJBOtez11wy"
    },
    {
      "cell_type": "code",
      "execution_count": null,
      "metadata": {
        "id": "JM2thnrc10rD"
      },
      "outputs": [],
      "source": [
        "from snntorch import surrogate\n",
        "import torch.nn.functional as F\n",
        "\n",
        "\n",
        "class Net(nn.Module):\n",
        "    def __init__(self, config):\n",
        "        super().__init__()\n",
        "        self.num_bits = config[\"num_bits\"]\n",
        "        self.thr = config[\"threshold\"]\n",
        "        self.slope = config[\"slope\"]\n",
        "        self.beta = config[\"beta\"]\n",
        "        self.num_steps = config[\"num_steps\"]\n",
        "        self.batch_norm = config[\"batch_norm\"]\n",
        "        self.p1 = config[\"dropout\"]\n",
        "        self.spike_grad = surrogate.fast_sigmoid(self.slope)\n",
        "        \n",
        "        # Initialize Layers\n",
        "        self.conv1 = qnn.QuantConv2d(1, 16, 5, bias=False, weight_bit_width=self.num_bits)\n",
        "        self.conv1_bn = nn.BatchNorm2d(16)\n",
        "        self.lif1 = snn.Leaky(self.beta, threshold=self.thr, spike_grad=self.spike_grad)\n",
        "        self.conv2 = qnn.QuantConv2d(16, 64, 5, bias=False, weight_bit_width=self.num_bits)\n",
        "        self.conv2_bn = nn.BatchNorm2d(64)\n",
        "        self.lif2 = snn.Leaky(self.beta, threshold=self.thr, spike_grad=self.spike_grad)\n",
        "        self.fc1 = qnn.QuantLinear(64 * 4 * 4, 10, bias=False, weight_bit_width=self.num_bits)\n",
        "        self.lif3 = snn.Leaky(self.beta, threshold=self.thr, spike_grad=self.spike_grad)\n",
        "        self.dropout = nn.Dropout(self.p1)\n",
        "\n",
        "    def forward(self, x):\n",
        "        # Initialize hidden states and outputs at t=0\n",
        "        mem1 = self.lif1.init_leaky()\n",
        "        mem2 = self.lif2.init_leaky()\n",
        "        mem3 = self.lif3.init_leaky()\n",
        "\n",
        "        # Record the final layer\n",
        "        spk3_rec = []\n",
        "        mem3_rec = []\n",
        "\n",
        "        # Forward pass\n",
        "        for step in range(self.num_steps):\n",
        "            cur1 = F.avg_pool2d(self.conv1(x), 2)\n",
        "            if self.batch_norm:\n",
        "                cur1 = self.conv1_bn(cur1)\n",
        "\n",
        "            spk1, mem1 = self.lif1(cur1, mem1)\n",
        "            cur2 = F.avg_pool2d(self.conv2(spk1), 2)\n",
        "            if self.batch_norm:\n",
        "                cur2 = self.conv2_bn(cur2)\n",
        "\n",
        "            spk2, mem2 = self.lif2(cur2, mem2)\n",
        "            cur3 = self.dropout(self.fc1(spk2.flatten(1)))\n",
        "            spk3, mem3 = self.lif3(cur3, mem3)\n",
        "            spk3_rec.append(spk3)\n",
        "            mem3_rec.append(mem3)\n",
        "\n",
        "        return torch.stack(spk3_rec, dim=0), torch.stack(mem3_rec, dim=0)\n",
        "\n",
        "net = Net(config).to(device)"
      ],
      "id": "JM2thnrc10rD"
    },
    {
      "cell_type": "markdown",
      "metadata": {
        "id": "BmtJx_AAeOyP"
      },
      "source": [
        "## Define the Optimizer, Learning Rate Scheduler, and Loss Function\n",
        "* Adam optimizer\n",
        "* Cosine Annealing Scheduler\n",
        "* MSE Spike Count Loss (Target spike count for correct and incorrect classes are specified)"
      ],
      "id": "BmtJx_AAeOyP"
    },
    {
      "cell_type": "code",
      "execution_count": null,
      "metadata": {
        "id": "ky-qAN_YeKmE"
      },
      "outputs": [],
      "source": [
        "import snntorch.functional as SF#cosine scheduler\n",
        "\n",
        "\n",
        "optimizer = torch.optim.Adam(net.parameters(), \n",
        "    lr=config[\"lr\"], betas=config[\"betas\"]\n",
        ")\n",
        "scheduler = torch.optim.lr_scheduler.CosineAnnealingLR(optimizer, \n",
        "    T_max=config[\"t_0\"], \n",
        "    eta_min=config[\"eta_min\"], \n",
        "    last_epoch=-1\n",
        ")\n",
        "criterion = SF.mse_count_loss(correct_rate=config[\"correct_rate\"], \n",
        "    incorrect_rate=config[\"incorrect_rate\"]\n",
        ")\n",
        "\n"
      ],
      "id": "ky-qAN_YeKmE"
    },
    {
      "cell_type": "code",
      "execution_count": null,
      "metadata": {
        "id": "-oa5gTm_SjYW"
      },
      "outputs": [],
      "source": [
        "\"\"\"import snntorch.functional as SF #linear\n",
        "\n",
        "\n",
        "optimizer = torch.optim.Adam(net.parameters(), \n",
        "    lr=config[\"lr\"], betas=config[\"betas\"]\n",
        ")\n",
        "scheduler = torch.optim.lr_scheduler.StepLR(optimizer, \n",
        "    step_size=1000, \n",
        "    gamma=0.5\n",
        ")\n",
        "criterion = SF.mse_count_loss(correct_rate=config[\"correct_rate\"], \n",
        "    incorrect_rate=config[\"incorrect_rate\"]\n",
        ")\n",
        "\"\"\""
      ],
      "id": "-oa5gTm_SjYW"
    },
    {
      "cell_type": "code",
      "execution_count": null,
      "metadata": {
        "id": "QPSs1aM6aAOO"
      },
      "outputs": [],
      "source": [
        "\"\"\"import snntorch.functional as SF#multi step\n",
        "\n",
        "optimizer = torch.optim.Adam(net.parameters(), lr=config[\"lr\"], betas=config[\"betas\"])\n",
        "\n",
        "# Define the schedule steps and corresponding learning rates\n",
        "milestones = [10, 20, 30]\n",
        "gamma = 0.1\n",
        "scheduler = torch.optim.lr_scheduler.MultiStepLR(optimizer, milestones=milestones, gamma=gamma)\n",
        "\n",
        "criterion = SF.mse_count_loss(correct_rate=config[\"correct_rate\"], incorrect_rate=config[\"incorrect_rate\"])\n",
        "\"\"\""
      ],
      "id": "QPSs1aM6aAOO"
    },
    {
      "cell_type": "markdown",
      "metadata": {
        "id": "UGtJwmtVexb4"
      },
      "source": [
        "## Train and Evaluate the Network"
      ],
      "id": "UGtJwmtVexb4"
    },
    {
      "cell_type": "markdown",
      "metadata": {
        "id": "2321a02f"
      },
      "source": [
        "As the learning rate follows a periodic schedule, the accuracy will oscillate across the training process, but with a general tendency to improve."
      ],
      "id": "2321a02f"
    },
    {
      "cell_type": "code",
      "execution_count": null,
      "metadata": {
        "colab": {
          "background_save": true,
          "base_uri": "https://localhost:8080/"
        },
        "id": "tbOQgPiEe-lp",
        "outputId": "0d5a0e4d-6da7-47c3-e35d-dbefe697d2df"
      },
      "outputs": [
        {
          "name": "stdout",
          "output_type": "stream",
          "text": [
            "=======Training Network=======\n",
            "Epoch: 0 \tTest Accuracy: 77.6\n",
            "Epoch: 1 \tTest Accuracy: 81.3\n",
            "Epoch: 2 \tTest Accuracy: 82.7\n",
            "Epoch: 3 \tTest Accuracy: 84.8\n",
            "Epoch: 4 \tTest Accuracy: 84.4\n",
            "Epoch: 5 \tTest Accuracy: 85.8\n",
            "Epoch: 6 \tTest Accuracy: 85.0\n",
            "Epoch: 7 \tTest Accuracy: 84.9\n",
            "Epoch: 8 \tTest Accuracy: 86.3\n",
            "Epoch: 9 \tTest Accuracy: 85.7\n",
            "Epoch: 10 \tTest Accuracy: 86.0\n",
            "Epoch: 11 \tTest Accuracy: 86.3\n",
            "Epoch: 12 \tTest Accuracy: 86.4\n",
            "Epoch: 13 \tTest Accuracy: 86.1\n",
            "Epoch: 14 \tTest Accuracy: 87.0\n"
          ]
        }
      ],
      "source": [
        "def train(config, net, trainloader, criterion, optimizer, device=\"cpu\", scheduler=None):\n",
        "    \"\"\"Complete one epoch of training.\"\"\"\n",
        "    \n",
        "    net.train()\n",
        "    loss_accum = []\n",
        "    lr_accum = []\n",
        "    i = 0\n",
        "    for data, labels in trainloader:\n",
        "        data, labels = data.to(device), labels.to(device)\n",
        "        spk_rec, _ = net(data)\n",
        "        loss = criterion(spk_rec, labels)\n",
        "        optimizer.zero_grad()\n",
        "        loss.backward()\n",
        "\n",
        "        ## Enable gradient clipping\n",
        "        if config[\"grad_clip\"]:\n",
        "            nn.utils.clip_grad_norm_(net.parameters(), 1.0)\n",
        "\n",
        "        ## Enable weight clipping\n",
        "        if config[\"weight_clip\"]:\n",
        "            with torch.no_grad():\n",
        "                for param in net.parameters():\n",
        "                    param.clamp_(-1, 1)\n",
        "\n",
        "        optimizer.step()\n",
        "        scheduler.step()\n",
        "        loss_accum.append(loss.item() / config[\"num_steps\"])\n",
        "        lr_accum.append(optimizer.param_groups[0][\"lr\"])\n",
        "\n",
        "    return loss_accum, lr_accum\n",
        "\n",
        "def test(config, net, testloader, device=\"cpu\"):\n",
        "    \"\"\"Calculate accuracy on full test set.\"\"\"\n",
        "    correct = 0\n",
        "    total = 0\n",
        "    with torch.no_grad():\n",
        "        net.eval()\n",
        "        for data in testloader:\n",
        "            images, labels = data\n",
        "            images, labels = images.to(device), labels.to(device)\n",
        "            outputs, _ = net(images)\n",
        "            accuracy = SF.accuracy_rate(outputs, labels)\n",
        "            total += labels.size(0)\n",
        "            correct += accuracy * labels.size(0)\n",
        "\n",
        "    return 100 * correct / total\n",
        "\n",
        "loss_list = []\n",
        "lr_list = []\n",
        "\n",
        "print(f\"=======Training Network=======\")\n",
        "# Train\n",
        "for epoch in range(config['num_epochs']):\n",
        "    loss, lr = train(config, net, trainloader, criterion, optimizer, \n",
        "        device, scheduler\n",
        "    )\n",
        "    loss_list = loss_list + loss\n",
        "    lr_list = lr_list + lr\n",
        "    # Test\n",
        "    test_accuracy = test(config, net, testloader, device)\n",
        "    print(f\"Epoch: {epoch} \\tTest Accuracy: {test_accuracy}\")"
      ],
      "id": "tbOQgPiEe-lp"
    },
    {
      "cell_type": "markdown",
      "metadata": {
        "id": "14d0bd78"
      },
      "source": [
        "## Plot the Training Loss and Learning Rate Over Time"
      ],
      "id": "14d0bd78"
    },
    {
      "cell_type": "code",
      "execution_count": null,
      "metadata": {
        "colab": {
          "background_save": true
        },
        "id": "B22SnaTElOLh",
        "outputId": "bf692a25-fbe6-49a6-9921-0c6fdc345ea4"
      },
      "outputs": [
        {
          "data": {
            "image/png": "[encoded data removed]",
            "text/plain": [
              "<Figure size 640x480 with 2 Axes>"
            ]
          },
          "metadata": {},
          "output_type": "display_data"
        }
      ],
      "source": [
        "%matplotlib inline\n",
        "import matplotlib.pyplot as plt\n",
        "import seaborn as sns\n",
        "\n",
        "\n",
        "sns.set_theme()\n",
        "fig, ax1 = plt.subplots()\n",
        "ax2 = ax1.twinx()\n",
        "ax1.plot(loss_list, color='tab:green')\n",
        "ax2.plot(lr_list, color='tab:blue')\n",
        "ax1.set_xlabel('Iteration')\n",
        "ax1.set_ylabel('Loss', color='tab:green')\n",
        "ax2.set_ylabel('Learning Rate', color='tab:blue')\n",
        "plt.show()"
      ],
      "id": "B22SnaTElOLh"
    },
    {
      "cell_type": "code",
      "source": [],
      "metadata": {
        "id": "tqte1knSq2T8"
      },
      "id": "tqte1knSq2T8",
      "execution_count": null,
      "outputs": []
    },
    {
      "cell_type": "markdown",
      "metadata": {
        "id": "-iSGTq0Q3Lcm"
      },
      "source": [],
      "id": "-iSGTq0Q3Lcm"
    }
  ],
  "metadata": {
    "accelerator": "GPU",
    "colab": {
      "provenance": []
    },
    "kernelspec": {
      "display_name": "Python 3 (ipykernel)",
      "language": "python",
      "name": "python3"
    },
    "language_info": {
      "codemirror_mode": {
        "name": "ipython",
        "version": 3
      },
      "file_extension": ".py",
      "mimetype": "text/x-python",
      "name": "python",
      "nbconvert_exporter": "python",
      "pygments_lexer": "ipython3",
      "version": "3.8.11"
    }
  },
  "nbformat": 4,
  "nbformat_minor": 5
}